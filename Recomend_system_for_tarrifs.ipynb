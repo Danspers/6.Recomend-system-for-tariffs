{
 "cells": [
  {
   "cell_type": "markdown",
   "metadata": {},
   "source": [
    "# Рекомендация тарифов"
   ]
  },
  {
   "cell_type": "markdown",
   "metadata": {},
   "source": [
    "В распоряжении данные о поведении клиентов, которые уже перешли на эти тарифы (из проекта курса «Статистический анализ данных»). Нужно построить **модель** для задачи классификации, которая **выберет подходящий тариф**. Предобработка данных не понадобится — вы её уже сделали.\n",
    "\n",
    "Постройте модель с максимально большим значением **accuracy**. Чтобы сдать проект успешно, нужно довести долю правильных ответов по крайней мере до **0.75**. Проверьте *accuracy* на тестовой выборке самостоятельно."
   ]
  },
  {
   "cell_type": "markdown",
   "metadata": {},
   "source": [
    "**План работы:**\n",
    "1. [Чтение и знакомство с данными.](#section_1)\n",
    "2. [Деление исходных данных на тренировочную и тестовую выборки.](#section_2)\n",
    "3. [Исследование модели](#section_3)\n",
    "4. [Проверка модели.](#section_4)\n",
    "5. [Оценка модели.](#section_5)"
   ]
  },
  {
   "cell_type": "markdown",
   "metadata": {},
   "source": [
    "<a id='section_1'></a>\n",
    "## 1. Чтение и знакомство с данными"
   ]
  },
  {
   "cell_type": "code",
   "execution_count": 1,
   "metadata": {},
   "outputs": [],
   "source": [
    "import pandas as pd\n",
    "from matplotlib import pyplot as plt\n",
    "\n",
    "from tqdm.notebook import tqdm\n",
    "from sklearn.dummy import DummyClassifier\n",
    "from sklearn.tree import DecisionTreeClassifier, plot_tree\n",
    "from sklearn.ensemble import RandomForestClassifier\n",
    "from sklearn.linear_model import LogisticRegression\n",
    "from sklearn.model_selection import train_test_split\n",
    "from sklearn.metrics import accuracy_score, plot_confusion_matrix"
   ]
  },
  {
   "cell_type": "code",
   "execution_count": 2,
   "metadata": {},
   "outputs": [
    {
     "data": {
      "text/html": [
       "<div>\n",
       "<style scoped>\n",
       "    .dataframe tbody tr th:only-of-type {\n",
       "        vertical-align: middle;\n",
       "    }\n",
       "\n",
       "    .dataframe tbody tr th {\n",
       "        vertical-align: top;\n",
       "    }\n",
       "\n",
       "    .dataframe thead th {\n",
       "        text-align: right;\n",
       "    }\n",
       "</style>\n",
       "<table border=\"1\" class=\"dataframe\">\n",
       "  <thead>\n",
       "    <tr style=\"text-align: right;\">\n",
       "      <th></th>\n",
       "      <th>calls</th>\n",
       "      <th>minutes</th>\n",
       "      <th>messages</th>\n",
       "      <th>mb_used</th>\n",
       "      <th>is_ultra</th>\n",
       "    </tr>\n",
       "  </thead>\n",
       "  <tbody>\n",
       "    <tr>\n",
       "      <th>0</th>\n",
       "      <td>40.0</td>\n",
       "      <td>311.90</td>\n",
       "      <td>83.0</td>\n",
       "      <td>19915.42</td>\n",
       "      <td>0</td>\n",
       "    </tr>\n",
       "    <tr>\n",
       "      <th>1</th>\n",
       "      <td>85.0</td>\n",
       "      <td>516.75</td>\n",
       "      <td>56.0</td>\n",
       "      <td>22696.96</td>\n",
       "      <td>0</td>\n",
       "    </tr>\n",
       "    <tr>\n",
       "      <th>2</th>\n",
       "      <td>77.0</td>\n",
       "      <td>467.66</td>\n",
       "      <td>86.0</td>\n",
       "      <td>21060.45</td>\n",
       "      <td>0</td>\n",
       "    </tr>\n",
       "    <tr>\n",
       "      <th>3</th>\n",
       "      <td>106.0</td>\n",
       "      <td>745.53</td>\n",
       "      <td>81.0</td>\n",
       "      <td>8437.39</td>\n",
       "      <td>1</td>\n",
       "    </tr>\n",
       "    <tr>\n",
       "      <th>4</th>\n",
       "      <td>66.0</td>\n",
       "      <td>418.74</td>\n",
       "      <td>1.0</td>\n",
       "      <td>14502.75</td>\n",
       "      <td>0</td>\n",
       "    </tr>\n",
       "  </tbody>\n",
       "</table>\n",
       "</div>"
      ],
      "text/plain": [
       "   calls  minutes  messages   mb_used  is_ultra\n",
       "0   40.0   311.90      83.0  19915.42         0\n",
       "1   85.0   516.75      56.0  22696.96         0\n",
       "2   77.0   467.66      86.0  21060.45         0\n",
       "3  106.0   745.53      81.0   8437.39         1\n",
       "4   66.0   418.74       1.0  14502.75         0"
      ]
     },
     "metadata": {},
     "output_type": "display_data"
    }
   ],
   "source": [
    "try:\n",
    "    try:\n",
    "        df = pd.read_csv('datasets/users_behavior.csv') #домашняя версия\n",
    "    except:\n",
    "        df = pd.read_csv('/datasets/users_behavior.csv') #сетевая версия\n",
    "    display(df.head())\n",
    "except:\n",
    "    print('Не удалось прочесть файл. Возможно, был указан не верный путь.')"
   ]
  },
  {
   "cell_type": "markdown",
   "metadata": {},
   "source": [
    "**Описание данных**:\n",
    "- `сalls` — количество звонков,\n",
    "- `minutes` — суммарная длительность звонков в минутах,\n",
    "- `messages` — количество sms-сообщений,\n",
    "- `mb_used` — израсходованный интернет-трафик в Мб,\n",
    "- `is_ultra` — каким тарифом пользовался в течение месяца («Ультра» — 1, «Смарт» — 0)."
   ]
  },
  {
   "cell_type": "code",
   "execution_count": 3,
   "metadata": {
    "scrolled": true
   },
   "outputs": [
    {
     "name": "stdout",
     "output_type": "stream",
     "text": [
      "<class 'pandas.core.frame.DataFrame'>\n",
      "RangeIndex: 3214 entries, 0 to 3213\n",
      "Data columns (total 5 columns):\n",
      " #   Column    Non-Null Count  Dtype  \n",
      "---  ------    --------------  -----  \n",
      " 0   calls     3214 non-null   float64\n",
      " 1   minutes   3214 non-null   float64\n",
      " 2   messages  3214 non-null   float64\n",
      " 3   mb_used   3214 non-null   float64\n",
      " 4   is_ultra  3214 non-null   int64  \n",
      "dtypes: float64(4), int64(1)\n",
      "memory usage: 125.7 KB\n"
     ]
    }
   ],
   "source": [
    "df.info()"
   ]
  },
  {
   "cell_type": "markdown",
   "metadata": {},
   "source": [
    "Замена **типов данных** на более подходящие: кол-во звонков и СМС может быть исключительно целым числом. Избавление от условных обозначений в пользу **фактических названий** тарифов."
   ]
  },
  {
   "cell_type": "code",
   "execution_count": 4,
   "metadata": {},
   "outputs": [
    {
     "data": {
      "text/html": [
       "<div>\n",
       "<style scoped>\n",
       "    .dataframe tbody tr th:only-of-type {\n",
       "        vertical-align: middle;\n",
       "    }\n",
       "\n",
       "    .dataframe tbody tr th {\n",
       "        vertical-align: top;\n",
       "    }\n",
       "\n",
       "    .dataframe thead th {\n",
       "        text-align: right;\n",
       "    }\n",
       "</style>\n",
       "<table border=\"1\" class=\"dataframe\">\n",
       "  <thead>\n",
       "    <tr style=\"text-align: right;\">\n",
       "      <th></th>\n",
       "      <th>calls</th>\n",
       "      <th>minutes</th>\n",
       "      <th>messages</th>\n",
       "      <th>mb_used</th>\n",
       "      <th>tariff</th>\n",
       "    </tr>\n",
       "  </thead>\n",
       "  <tbody>\n",
       "    <tr>\n",
       "      <th>0</th>\n",
       "      <td>40</td>\n",
       "      <td>311.90</td>\n",
       "      <td>83</td>\n",
       "      <td>19915.42</td>\n",
       "      <td>smart</td>\n",
       "    </tr>\n",
       "    <tr>\n",
       "      <th>1</th>\n",
       "      <td>85</td>\n",
       "      <td>516.75</td>\n",
       "      <td>56</td>\n",
       "      <td>22696.96</td>\n",
       "      <td>smart</td>\n",
       "    </tr>\n",
       "    <tr>\n",
       "      <th>2</th>\n",
       "      <td>77</td>\n",
       "      <td>467.66</td>\n",
       "      <td>86</td>\n",
       "      <td>21060.45</td>\n",
       "      <td>smart</td>\n",
       "    </tr>\n",
       "    <tr>\n",
       "      <th>3</th>\n",
       "      <td>106</td>\n",
       "      <td>745.53</td>\n",
       "      <td>81</td>\n",
       "      <td>8437.39</td>\n",
       "      <td>ultra</td>\n",
       "    </tr>\n",
       "    <tr>\n",
       "      <th>4</th>\n",
       "      <td>66</td>\n",
       "      <td>418.74</td>\n",
       "      <td>1</td>\n",
       "      <td>14502.75</td>\n",
       "      <td>smart</td>\n",
       "    </tr>\n",
       "  </tbody>\n",
       "</table>\n",
       "</div>"
      ],
      "text/plain": [
       "   calls  minutes  messages   mb_used tariff\n",
       "0     40   311.90        83  19915.42  smart\n",
       "1     85   516.75        56  22696.96  smart\n",
       "2     77   467.66        86  21060.45  smart\n",
       "3    106   745.53        81   8437.39  ultra\n",
       "4     66   418.74         1  14502.75  smart"
      ]
     },
     "execution_count": 4,
     "metadata": {},
     "output_type": "execute_result"
    }
   ],
   "source": [
    "for col in ['calls', 'messages']:\n",
    "    df[col] = df[col].astype('int')\n",
    "\n",
    "df['is_ultra'].where(df['is_ultra'] != 1, 'ultra', inplace=True)\n",
    "df['is_ultra'].where(df['is_ultra'] != 0, 'smart', inplace=True)\n",
    "df.rename(columns = {'is_ultra':'tariff'}, inplace=True)\n",
    "\n",
    "df.head()"
   ]
  },
  {
   "cell_type": "code",
   "execution_count": 5,
   "metadata": {},
   "outputs": [
    {
     "name": "stdout",
     "output_type": "stream",
     "text": [
      "Численность объектов разных тарифов:\n"
     ]
    },
    {
     "data": {
      "text/plain": [
       "tariff\n",
       "smart    2229\n",
       "ultra     985\n",
       "Name: calls, dtype: int64"
      ]
     },
     "metadata": {},
     "output_type": "display_data"
    }
   ],
   "source": [
    "print('Численность объектов разных тарифов:')\n",
    "display(df.groupby('tariff')['calls'].count())"
   ]
  },
  {
   "cell_type": "code",
   "execution_count": 6,
   "metadata": {
    "scrolled": false
   },
   "outputs": [
    {
     "data": {
      "text/html": [
       "<div>\n",
       "<style scoped>\n",
       "    .dataframe tbody tr th:only-of-type {\n",
       "        vertical-align: middle;\n",
       "    }\n",
       "\n",
       "    .dataframe tbody tr th {\n",
       "        vertical-align: top;\n",
       "    }\n",
       "\n",
       "    .dataframe thead th {\n",
       "        text-align: right;\n",
       "    }\n",
       "</style>\n",
       "<table border=\"1\" class=\"dataframe\">\n",
       "  <thead>\n",
       "    <tr style=\"text-align: right;\">\n",
       "      <th></th>\n",
       "      <th>minutes</th>\n",
       "      <th>messages</th>\n",
       "      <th>mb_used</th>\n",
       "    </tr>\n",
       "  </thead>\n",
       "  <tbody>\n",
       "    <tr>\n",
       "      <th>minutes</th>\n",
       "      <td>1.000</td>\n",
       "      <td>0.173</td>\n",
       "      <td>0.281</td>\n",
       "    </tr>\n",
       "    <tr>\n",
       "      <th>messages</th>\n",
       "      <td>0.173</td>\n",
       "      <td>1.000</td>\n",
       "      <td>0.196</td>\n",
       "    </tr>\n",
       "    <tr>\n",
       "      <th>mb_used</th>\n",
       "      <td>0.281</td>\n",
       "      <td>0.196</td>\n",
       "      <td>1.000</td>\n",
       "    </tr>\n",
       "  </tbody>\n",
       "</table>\n",
       "</div>"
      ],
      "text/plain": [
       "          minutes  messages  mb_used\n",
       "minutes     1.000     0.173    0.281\n",
       "messages    0.173     1.000    0.196\n",
       "mb_used     0.281     0.196    1.000"
      ]
     },
     "execution_count": 6,
     "metadata": {},
     "output_type": "execute_result"
    }
   ],
   "source": [
    "df.drop('calls', axis=1).corr().round(3)"
   ]
  },
  {
   "cell_type": "markdown",
   "metadata": {},
   "source": [
    "Присутствует **дисбаланс** в сторону тарифа `smart`, с перевесом более чем в 2 раза. Из этого следует, что угадать тариф `smart` становится на много проце, чем `ultra`, даже если не прибегать к анализу и поиску зависимостей.\n",
    "\n",
    "Сводная таблица взамных **коэф. корреляций** говорит о наличии положительной линейной зависимости между признаками, но её сила **слабая**. Столбец `calls` был намеренно изъят из таблицы, постолько это _количественная_ оценка звонков. Одновременно с ней существует _качественная_ оценка (**общая длительность звонков**). Она наилучшим образом подходит для сравнения с другими ресурсами сети: СМС и интернет трафик. В конечном счёте расходы мобильные разговоры расчитываются изходя из их длительности, а не кол-ва."
   ]
  },
  {
   "cell_type": "markdown",
   "metadata": {},
   "source": [
    "<a id='section_2'></a>\n",
    "## 2. Валидация данных"
   ]
  },
  {
   "cell_type": "markdown",
   "metadata": {},
   "source": [
    "Разделите исходные данные на обучающую, валидационную и тестовую выборки."
   ]
  },
  {
   "cell_type": "code",
   "execution_count": 7,
   "metadata": {},
   "outputs": [],
   "source": [
    "features = df.drop('tariff', axis=1) # выделение признаков\n",
    "target = df['tariff']\n",
    "\n",
    "# выделение тренировочной выборки\n",
    "train_features, other_features, train_target, other_target = train_test_split(\n",
    "    features, target, train_size=0.60, stratify=target, random_state=1234)  # UPD, добавлен пар. stratify\n",
    "\n",
    "# выделение валидационной и тестовой выборок\n",
    "valid_features, test_features, valid_target, test_target = train_test_split(\n",
    "    other_features, other_target, test_size=0.50, stratify=other_target, random_state=1234)"
   ]
  },
  {
   "cell_type": "code",
   "execution_count": 8,
   "metadata": {},
   "outputs": [
    {
     "name": "stdout",
     "output_type": "stream",
     "text": [
      "Кол-во объектов тренировочной выборки: 1928, и доля от исходных данных 60%\n"
     ]
    },
    {
     "data": {
      "text/html": [
       "<div>\n",
       "<style scoped>\n",
       "    .dataframe tbody tr th:only-of-type {\n",
       "        vertical-align: middle;\n",
       "    }\n",
       "\n",
       "    .dataframe tbody tr th {\n",
       "        vertical-align: top;\n",
       "    }\n",
       "\n",
       "    .dataframe thead th {\n",
       "        text-align: right;\n",
       "    }\n",
       "</style>\n",
       "<table border=\"1\" class=\"dataframe\">\n",
       "  <thead>\n",
       "    <tr style=\"text-align: right;\">\n",
       "      <th></th>\n",
       "      <th>tariff</th>\n",
       "    </tr>\n",
       "  </thead>\n",
       "  <tbody>\n",
       "    <tr>\n",
       "      <th>smart</th>\n",
       "      <td>0.693465</td>\n",
       "    </tr>\n",
       "    <tr>\n",
       "      <th>ultra</th>\n",
       "      <td>0.306535</td>\n",
       "    </tr>\n",
       "  </tbody>\n",
       "</table>\n",
       "</div>"
      ],
      "text/plain": [
       "         tariff\n",
       "smart  0.693465\n",
       "ultra  0.306535"
      ]
     },
     "metadata": {},
     "output_type": "display_data"
    },
    {
     "name": "stdout",
     "output_type": "stream",
     "text": [
      "Кол-во объектов вализационной выборки: 643, и доля от исходных данных 20%\n"
     ]
    },
    {
     "data": {
      "text/html": [
       "<div>\n",
       "<style scoped>\n",
       "    .dataframe tbody tr th:only-of-type {\n",
       "        vertical-align: middle;\n",
       "    }\n",
       "\n",
       "    .dataframe tbody tr th {\n",
       "        vertical-align: top;\n",
       "    }\n",
       "\n",
       "    .dataframe thead th {\n",
       "        text-align: right;\n",
       "    }\n",
       "</style>\n",
       "<table border=\"1\" class=\"dataframe\">\n",
       "  <thead>\n",
       "    <tr style=\"text-align: right;\">\n",
       "      <th></th>\n",
       "      <th>tariff</th>\n",
       "    </tr>\n",
       "  </thead>\n",
       "  <tbody>\n",
       "    <tr>\n",
       "      <th>smart</th>\n",
       "      <td>0.693624</td>\n",
       "    </tr>\n",
       "    <tr>\n",
       "      <th>ultra</th>\n",
       "      <td>0.306376</td>\n",
       "    </tr>\n",
       "  </tbody>\n",
       "</table>\n",
       "</div>"
      ],
      "text/plain": [
       "         tariff\n",
       "smart  0.693624\n",
       "ultra  0.306376"
      ]
     },
     "metadata": {},
     "output_type": "display_data"
    },
    {
     "name": "stdout",
     "output_type": "stream",
     "text": [
      "Кол-во объектов тестовой выборки: 643, и доля от исходных данных 20%\n"
     ]
    },
    {
     "data": {
      "text/html": [
       "<div>\n",
       "<style scoped>\n",
       "    .dataframe tbody tr th:only-of-type {\n",
       "        vertical-align: middle;\n",
       "    }\n",
       "\n",
       "    .dataframe tbody tr th {\n",
       "        vertical-align: top;\n",
       "    }\n",
       "\n",
       "    .dataframe thead th {\n",
       "        text-align: right;\n",
       "    }\n",
       "</style>\n",
       "<table border=\"1\" class=\"dataframe\">\n",
       "  <thead>\n",
       "    <tr style=\"text-align: right;\">\n",
       "      <th></th>\n",
       "      <th>tariff</th>\n",
       "    </tr>\n",
       "  </thead>\n",
       "  <tbody>\n",
       "    <tr>\n",
       "      <th>smart</th>\n",
       "      <td>0.693624</td>\n",
       "    </tr>\n",
       "    <tr>\n",
       "      <th>ultra</th>\n",
       "      <td>0.306376</td>\n",
       "    </tr>\n",
       "  </tbody>\n",
       "</table>\n",
       "</div>"
      ],
      "text/plain": [
       "         tariff\n",
       "smart  0.693624\n",
       "ultra  0.306376"
      ]
     },
     "metadata": {},
     "output_type": "display_data"
    }
   ],
   "source": [
    "for data, name in zip([train_target, valid_target, test_target], ['тренировочной', 'вализационной', 'тестовой']):\n",
    "    print(f'Кол-во объектов {name} выборки: {data.shape[0]}, и доля от исходных данных {round(data.shape[0]/df.shape[0]*100)}%')\n",
    "    display(data.value_counts(normalize=True).to_frame())"
   ]
  },
  {
   "cell_type": "markdown",
   "metadata": {},
   "source": [
    "<a id='section_3'></a>\n",
    "## 3. Исследование моделей"
   ]
  },
  {
   "cell_type": "markdown",
   "metadata": {},
   "source": [
    "Задача классификаци - варианты моделей классификации:\n",
    "- _RandomForestClassifier_ (Слуйчайный лес)\n",
    "- _LogisticRegression_ (Логистическая регрессия)\n",
    "- _DecisionTreeClassifier_ (Дерево решений)\n",
    "\n",
    "Я проведу обучение каждой модели, с подбором гипермараметров для наибольшего кол-ва верных предсказаний (оценка _accuracy_), после чего эти оценки позволят сравнить модели и выбрать лучшую."
   ]
  },
  {
   "cell_type": "markdown",
   "metadata": {},
   "source": [
    "### 3.1. Случайный лес"
   ]
  },
  {
   "cell_type": "code",
   "execution_count": 9,
   "metadata": {},
   "outputs": [
    {
     "data": {
      "application/vnd.jupyter.widget-view+json": {
       "model_id": "c0dcef7bc89e48d295da457af1228282",
       "version_major": 2,
       "version_minor": 0
      },
      "text/plain": [
       "  0%|          | 0/10 [00:00<?, ?it/s]"
      ]
     },
     "metadata": {},
     "output_type": "display_data"
    },
    {
     "name": "stdout",
     "output_type": "stream",
     "text": [
      "\n",
      " Максимальная оценка модели: 0.8055987558320373, при кол-ве деревьев: 10, и их глубине: 7\n"
     ]
    },
    {
     "data": {
      "image/png": "[encoded data removed]",
      "text/plain": [
       "<Figure size 1080x504 with 1 Axes>"
      ]
     },
     "metadata": {
      "needs_background": "light"
     },
     "output_type": "display_data"
    }
   ],
   "source": [
    "best_est = 0\n",
    "best_depth = 0\n",
    "best_accuracy = 0\n",
    "list_est = []\n",
    "list_accurasy = []\n",
    "\n",
    "for est in tqdm(range(10, 101, 10)): # подбор гиперпараметров модели для наивышлего качества\n",
    "    for depth in range(1, 13):\n",
    "        model = RandomForestClassifier(max_depth=depth, n_estimators=est, random_state=1234) # создание модели\n",
    "        model.fit(train_features, train_target)  # обучение модели\n",
    "        valid_prediction = model.predict(valid_features) # предсказание на валидационной выборке\n",
    "        valid_accuracy = accuracy_score(valid_target, valid_prediction) # оценка предсказаний\n",
    "        if valid_accuracy > best_accuracy:\n",
    "            best_accuracy = valid_accuracy #фиксация лучших результатов и гиперпараметров\n",
    "            best_depth = depth\n",
    "            best_est = est\n",
    "    list_est.append(est) # сохранение значений результатов и гиперпараметров\n",
    "    list_accurasy.append(best_accuracy)\n",
    "\n",
    "print(f'\\n Максимальная оценка модели: {best_accuracy}, при кол-ве деревьев: {best_est}, и их глубине: {best_depth}')\n",
    "\n",
    "\n",
    "# Визуализация зависимости качества модели от изменения гиперпараметра.\n",
    "accurasy_data = pd.DataFrame({'est': list_est, 'accuracy': list_accurasy})\n",
    "accurasy_data.plot(style='o-', x='est', y='accuracy', grid=True, legend=False, figsize=(15,7), ylim=(0.80, 0.81),\n",
    "                   title='Зависимость качества модели от настройки гиперпараметра.',\n",
    "                   xlabel='n_estimators - кол-во деревьев в \"Случайном лесу\"',\n",
    "                   ylabel='accuracy - доли верных предсказаний')\n",
    "plt.show()"
   ]
  },
  {
   "cell_type": "markdown",
   "metadata": {},
   "source": [
    "### 3.2. Логистическая регрессия"
   ]
  },
  {
   "cell_type": "code",
   "execution_count": 10,
   "metadata": {},
   "outputs": [
    {
     "name": "stdout",
     "output_type": "stream",
     "text": [
      "Максимальная оценка качества модели: 0.7402799377916018, при количестве итераций: 100\n"
     ]
    }
   ],
   "source": [
    "best_iter = 0\n",
    "best_accuracy = 0\n",
    "for iteration in range(100, 1001, 100):\n",
    "    model = LogisticRegression(max_iter=iteration, solver='lbfgs', random_state=1234)\n",
    "    model.fit(train_features, train_target)\n",
    "    valid_prediction = model.predict(valid_features)\n",
    "    valid_accuracy = accuracy_score(valid_target, valid_prediction) # оценка предсказаний\n",
    "    if valid_accuracy > best_accuracy:\n",
    "        best_accuracy = valid_accuracy\n",
    "        best_iter = iteration\n",
    "\n",
    "print(f'Максимальная оценка качества модели: {best_accuracy}, при количестве итераций: {best_iter}')"
   ]
  },
  {
   "cell_type": "markdown",
   "metadata": {},
   "source": [
    "### 3.3. Решающее дерево"
   ]
  },
  {
   "cell_type": "code",
   "execution_count": 11,
   "metadata": {
    "scrolled": false
   },
   "outputs": [
    {
     "name": "stdout",
     "output_type": "stream",
     "text": [
      "Максимальная оценка качества модели: 0.7900466562986003, при глубине решающего дерева: 5\n"
     ]
    },
    {
     "data": {
      "image/png": "[encoded data removed]",
      "text/plain": [
       "<Figure size 1152x504 with 1 Axes>"
      ]
     },
     "metadata": {
      "needs_background": "light"
     },
     "output_type": "display_data"
    }
   ],
   "source": [
    "best_depth = 0\n",
    "best_accuracy = 0\n",
    "for depth in range(1, 11):\n",
    "    model = DecisionTreeClassifier(max_depth=depth, random_state=1234)\n",
    "    model.fit(train_features, train_target)\n",
    "    valid_prediction = model.predict(valid_features)\n",
    "    valid_accuracy = accuracy_score(valid_target, valid_prediction)\n",
    "    if valid_accuracy > best_accuracy:\n",
    "        best_accuracy = valid_accuracy\n",
    "        best_depth = depth\n",
    "        best_model = model\n",
    "\n",
    "print(f'Максимальная оценка качества модели: {best_accuracy}, при глубине решающего дерева: {best_depth}')\n",
    "\n",
    "fig = plt.figure(figsize=(16, 7))\n",
    "plot_tree(best_model, \n",
    "          feature_names=features.columns.values, \n",
    "          class_names=['Smart','Ultra'],\n",
    "          filled=True,\n",
    "          fontsize = 10,\n",
    "          max_depth = 3); # прорисовка не глубже 3 уровня"
   ]
  },
  {
   "cell_type": "markdown",
   "metadata": {},
   "source": [
    "**Вывод:**\n",
    "- Наиболее точная модель **Случайный лес**: максимальная глубина: 7 разветвлений, достаточное кол-во деревьев: 10. Благодаря предпарительно выполненной статификации данных, модели RF работает достаточно быстро, несмотря на более сложную структуру работы.\n",
    "- **Решающее дерево** (макс. длубина = 5). Незначительное отличие по качеству предсказаний, но может быть полезна для работы с бОльшими выборками, благодаря быстродействию.\n",
    "- **Логистическая регрессия** - самыя низкокачественная в предсказания."
   ]
  },
  {
   "cell_type": "markdown",
   "metadata": {},
   "source": [
    "<a id='section_4'></a>\n",
    "## 4. Проверка модели на тестовой выборке"
   ]
  },
  {
   "cell_type": "code",
   "execution_count": 14,
   "metadata": {},
   "outputs": [
    {
     "name": "stdout",
     "output_type": "stream",
     "text": [
      "Максимальная оценка модели: 0.7900466562986003, при кол-ве деревьев: 100, и их глубине: 5\n"
     ]
    },
    {
     "data": {
      "image/png": "[encoded data removed]",
      "text/plain": [
       "<Figure size 432x288 with 2 Axes>"
      ]
     },
     "metadata": {
      "needs_background": "light"
     },
     "output_type": "display_data"
    }
   ],
   "source": [
    "tr_val_features = pd.concat([train_features, valid_features], ignore_index=True) # увеличение обучающей выборки за счёт\n",
    "tr_val_target = pd.concat([train_target, valid_target], ignore_index=True)       # объединения тренер. и валидацион. выборок\n",
    "\n",
    "model = RandomForestClassifier(max_depth=10, n_estimators=7, random_state=1234)\n",
    "model.fit(tr_val_features, tr_val_target)\n",
    "test_prediction = model.predict(test_features) # предсказание на тестовой выборке\n",
    "test_accuracy = accuracy_score(test_target, test_prediction)  # Оценка качества на тестовой выборке\n",
    "\n",
    "plot_confusion_matrix(estimator=model, X=test_features, y_true=test_target, normalize='true', cmap='Blues');\n",
    "\n",
    "print(f'Максимальная оценка модели: {best_accuracy}, при кол-ве деревьев: {est}, и их глубине: {best_depth}')"
   ]
  },
  {
   "cell_type": "markdown",
   "metadata": {},
   "source": [
    "Доля верных предсказаний, не достаточно велика, чтобы возникла проблема _переобучения_, и в тоже время не достаточно низкая, чтобы вызвать подозрение в _недообучении_. Тариф `smart` модель предсказывает практически идеально, что нельзя сказать про `ultra`. Возможно это связано с разным количеством пользователей этих тарифов.\n",
    "\n",
    "**Предложение** по использованию обученной модели RF:\n",
    "- Большинство - это пользователи тарифа `smart`, их модель угадывает с очень высокой вероятностью: 91%. Моё предложение заключается в поиске пользователей, чъё \"потребление\" минут, СМС, и интернет трафика **схоже** с нынешними юзерами нового `smart`. Далее проверить **наличее** выгоды для пользователя, ибо это будет его **мотивация** для сманы тарифа. И в положительных случай **предложить** ему обновлени: позвонить, прислать СМСку, выслать Push-уведомление.\n",
    "- Этот вариант опирается на минимальные ошибки и риски. Для работы с `ultra`-пользователями, надо повысить долю верных предсказаний, возможно переработать исходную выборку, или рассмотреть альтернативные варианты устранения неточности предсказаний."
   ]
  },
  {
   "cell_type": "markdown",
   "metadata": {},
   "source": [
    "<a id='section_5'></a>\n",
    "## 5. Проверка модели на адекватность"
   ]
  },
  {
   "cell_type": "markdown",
   "metadata": {},
   "source": [
    "Для сравнение я использовал **Dummy**-модель, в качестве базовой модели. Доля верных ответов значительно ниже, что даёт модели **Случайного леса** право на существование. Но одной метрики недостаточно для оценки и я решил дополнить сравнение **матрицей запутанности** (надеюсь этой её правильное название). К сожалению, получился бред. Я ожидал распределние около 30/70. Столько же, сколько пользователей разных тарифов, но 1 и 0 явно не нормально. \n",
    "\n",
    "Проверил все переменные и аргументы у функция. Всё верно. Попробовал этот метод оценки с совершенно другим датасетов (другие данные, переменные, модели) -  результат аналогичный. В чём я мог ошибиться?\n",
    "\n",
    "P.S.: в мыслях был ещё вариант провести **исследовательский анализ данных**, но:\n",
    "- есть риск субъективно оценить результаты (тем более изначально зная предсказания модели) и \n",
    "- хотел избежать ручной работы (автоматизировать процесс), ведь работу модели лучше сравнивать с другой моделью, а не человеком, в данном случае."
   ]
  },
  {
   "cell_type": "code",
   "execution_count": 13,
   "metadata": {},
   "outputs": [
    {
     "name": "stdout",
     "output_type": "stream",
     "text": [
      "Оценка качества Dummy-модель на тестовых данных: 0.6936236391912908\n",
      "\n",
      "\n",
      "Процентное соотношение пользователей разных тарифов:\n"
     ]
    },
    {
     "data": {
      "text/html": [
       "<div>\n",
       "<style scoped>\n",
       "    .dataframe tbody tr th:only-of-type {\n",
       "        vertical-align: middle;\n",
       "    }\n",
       "\n",
       "    .dataframe tbody tr th {\n",
       "        vertical-align: top;\n",
       "    }\n",
       "\n",
       "    .dataframe thead th {\n",
       "        text-align: right;\n",
       "    }\n",
       "</style>\n",
       "<table border=\"1\" class=\"dataframe\">\n",
       "  <thead>\n",
       "    <tr style=\"text-align: right;\">\n",
       "      <th></th>\n",
       "      <th>tariff</th>\n",
       "    </tr>\n",
       "  </thead>\n",
       "  <tbody>\n",
       "    <tr>\n",
       "      <th>smart</th>\n",
       "      <td>0.693624</td>\n",
       "    </tr>\n",
       "    <tr>\n",
       "      <th>ultra</th>\n",
       "      <td>0.306376</td>\n",
       "    </tr>\n",
       "  </tbody>\n",
       "</table>\n",
       "</div>"
      ],
      "text/plain": [
       "         tariff\n",
       "smart  0.693624\n",
       "ultra  0.306376"
      ]
     },
     "metadata": {},
     "output_type": "display_data"
    },
    {
     "data": {
      "image/png": "[encoded data removed]",
      "text/plain": [
       "<Figure size 432x288 with 2 Axes>"
      ]
     },
     "metadata": {
      "needs_background": "light"
     },
     "output_type": "display_data"
    }
   ],
   "source": [
    "test_model = DummyClassifier() \n",
    "test_model.fit(train_features, train_target)\n",
    "\n",
    "dummy_pred = test_model.predict(test_features)\n",
    "print('Оценка качества Dummy-модель на тестовых данных:', accuracy_score(test_target, dummy_pred))\n",
    "print('\\n')\n",
    "print('Процентное соотношение пользователей разных тарифов:')\n",
    "display(test_target.value_counts(normalize=True).to_frame())\n",
    "\n",
    "plot_confusion_matrix(estimator=test_model, X=test_features, y_true=test_target, normalize='true', cmap='Blues');"
   ]
  },
  {
   "cell_type": "markdown",
   "metadata": {},
   "source": [
    "## Чек-лист готовности проекта"
   ]
  },
  {
   "cell_type": "markdown",
   "metadata": {},
   "source": [
    "- [x] Jupyter Notebook открыт\n",
    "- [x] Весь код исполняется без ошибок\n",
    "- [x] Ячейки с кодом расположены в порядке исполнения\n",
    "- [x] Выполнено задание 1: данные загружены и изучены\n",
    "- [x] Выполнено задание 2: данные разбиты на три выборки\n",
    "- [x] Выполнено задание 3: проведено исследование моделей\n",
    "    - [x] Рассмотрено больше одной модели\n",
    "    - [x] Рассмотрено хотя бы 3 значения гипепараметров для какой-нибудь модели\n",
    "    - [x] Написаны выводы по результатам исследования\n",
    "- [x] Выполнено задание 4: Проведено тестирование\n",
    "- [x] Удалось достичь accuracy не меньше 0.75"
   ]
  }
 ],
 "metadata": {
  "ExecuteTimeLog": [
   {
    "duration": 2009,
    "start_time": "2022-12-14T06:38:06.771Z"
   },
   {
    "duration": 74,
    "start_time": "2022-12-14T06:38:08.782Z"
   },
   {
    "duration": 15,
    "start_time": "2022-12-14T06:38:08.858Z"
   },
   {
    "duration": 24,
    "start_time": "2022-12-14T06:38:08.876Z"
   },
   {
    "duration": 10,
    "start_time": "2022-12-14T06:38:08.902Z"
   },
   {
    "duration": 19337,
    "start_time": "2022-12-14T06:38:08.914Z"
   },
   {
    "duration": 348,
    "start_time": "2022-12-14T06:38:28.253Z"
   },
   {
    "duration": 115,
    "start_time": "2022-12-14T06:38:28.603Z"
   },
   {
    "duration": 421,
    "start_time": "2022-12-14T06:38:28.720Z"
   },
   {
    "duration": 184,
    "start_time": "2022-12-14T06:38:29.150Z"
   },
   {
    "duration": 15,
    "start_time": "2022-12-14T06:38:29.336Z"
   },
   {
    "duration": 5,
    "start_time": "2022-12-14T06:38:36.554Z"
   },
   {
    "duration": 4,
    "start_time": "2022-12-14T06:38:59.061Z"
   },
   {
    "duration": 1368,
    "start_time": "2022-12-15T07:14:44.409Z"
   },
   {
    "duration": 0,
    "start_time": "2022-12-15T07:14:45.780Z"
   },
   {
    "duration": 0,
    "start_time": "2022-12-15T07:14:45.782Z"
   },
   {
    "duration": 0,
    "start_time": "2022-12-15T07:14:45.783Z"
   },
   {
    "duration": 0,
    "start_time": "2022-12-15T07:14:45.785Z"
   },
   {
    "duration": 0,
    "start_time": "2022-12-15T07:14:45.786Z"
   },
   {
    "duration": 0,
    "start_time": "2022-12-15T07:14:45.796Z"
   },
   {
    "duration": 0,
    "start_time": "2022-12-15T07:14:45.796Z"
   },
   {
    "duration": 0,
    "start_time": "2022-12-15T07:14:45.798Z"
   },
   {
    "duration": 0,
    "start_time": "2022-12-15T07:14:45.799Z"
   },
   {
    "duration": 0,
    "start_time": "2022-12-15T07:14:45.800Z"
   },
   {
    "duration": 0,
    "start_time": "2022-12-15T07:14:45.801Z"
   },
   {
    "duration": 0,
    "start_time": "2022-12-15T07:14:45.802Z"
   },
   {
    "duration": 0,
    "start_time": "2022-12-15T07:14:45.803Z"
   },
   {
    "duration": 1222,
    "start_time": "2022-12-15T09:16:27.017Z"
   },
   {
    "duration": 62,
    "start_time": "2022-12-15T09:16:28.241Z"
   },
   {
    "duration": 12,
    "start_time": "2022-12-15T09:16:28.304Z"
   },
   {
    "duration": 19,
    "start_time": "2022-12-15T09:16:28.319Z"
   },
   {
    "duration": 6,
    "start_time": "2022-12-15T09:16:28.340Z"
   },
   {
    "duration": 13,
    "start_time": "2022-12-15T09:16:28.347Z"
   },
   {
    "duration": 39,
    "start_time": "2022-12-15T09:16:28.362Z"
   },
   {
    "duration": 18,
    "start_time": "2022-12-15T09:16:28.402Z"
   },
   {
    "duration": 158,
    "start_time": "2022-12-15T09:16:28.421Z"
   },
   {
    "duration": 0,
    "start_time": "2022-12-15T09:16:28.581Z"
   },
   {
    "duration": 0,
    "start_time": "2022-12-15T09:16:28.582Z"
   },
   {
    "duration": 0,
    "start_time": "2022-12-15T09:16:28.583Z"
   },
   {
    "duration": 0,
    "start_time": "2022-12-15T09:16:28.584Z"
   },
   {
    "duration": 0,
    "start_time": "2022-12-15T09:16:28.585Z"
   },
   {
    "duration": 1250,
    "start_time": "2022-12-15T09:17:04.090Z"
   },
   {
    "duration": 60,
    "start_time": "2022-12-15T09:17:05.342Z"
   },
   {
    "duration": 12,
    "start_time": "2022-12-15T09:17:05.406Z"
   },
   {
    "duration": 18,
    "start_time": "2022-12-15T09:17:05.419Z"
   },
   {
    "duration": 7,
    "start_time": "2022-12-15T09:17:05.438Z"
   },
   {
    "duration": 15,
    "start_time": "2022-12-15T09:17:05.446Z"
   },
   {
    "duration": 38,
    "start_time": "2022-12-15T09:17:05.462Z"
   },
   {
    "duration": 18,
    "start_time": "2022-12-15T09:17:05.502Z"
   },
   {
    "duration": 18779,
    "start_time": "2022-12-15T09:17:05.522Z"
   },
   {
    "duration": 114,
    "start_time": "2022-12-15T09:17:24.303Z"
   },
   {
    "duration": 280,
    "start_time": "2022-12-15T09:17:24.420Z"
   },
   {
    "duration": 899,
    "start_time": "2022-12-15T09:17:24.702Z"
   },
   {
    "duration": 22449,
    "start_time": "2022-12-15T09:17:25.603Z"
   },
   {
    "duration": 0,
    "start_time": "2022-12-15T09:17:48.054Z"
   },
   {
    "duration": 0,
    "start_time": "2022-12-15T09:17:48.055Z"
   },
   {
    "duration": 170,
    "start_time": "2022-12-15T09:18:12.572Z"
   },
   {
    "duration": 150,
    "start_time": "2022-12-15T09:18:20.789Z"
   },
   {
    "duration": 172,
    "start_time": "2022-12-15T09:18:28.830Z"
   },
   {
    "duration": 167,
    "start_time": "2022-12-15T09:19:30.431Z"
   },
   {
    "duration": 155,
    "start_time": "2022-12-15T09:19:37.686Z"
   },
   {
    "duration": 12,
    "start_time": "2022-12-15T10:09:09.706Z"
   },
   {
    "duration": 4,
    "start_time": "2022-12-15T10:09:24.927Z"
   },
   {
    "duration": 4,
    "start_time": "2022-12-15T10:09:32.054Z"
   },
   {
    "duration": 4,
    "start_time": "2022-12-15T10:09:39.247Z"
   },
   {
    "duration": 4,
    "start_time": "2022-12-15T10:09:49.645Z"
   },
   {
    "duration": 41,
    "start_time": "2022-12-15T10:10:00.246Z"
   },
   {
    "duration": 1500,
    "start_time": "2022-12-15T10:10:32.126Z"
   },
   {
    "duration": 114,
    "start_time": "2022-12-15T10:10:37.526Z"
   },
   {
    "duration": 16,
    "start_time": "2022-12-15T10:10:46.967Z"
   },
   {
    "duration": 11,
    "start_time": "2022-12-15T10:11:05.199Z"
   },
   {
    "duration": 19,
    "start_time": "2022-12-15T10:11:14.686Z"
   },
   {
    "duration": 4,
    "start_time": "2022-12-15T10:11:32.262Z"
   },
   {
    "duration": 71,
    "start_time": "2022-12-15T10:11:35.294Z"
   },
   {
    "duration": 16266,
    "start_time": "2022-12-15T10:11:43.714Z"
   },
   {
    "duration": 107,
    "start_time": "2022-12-15T10:12:35.022Z"
   },
   {
    "duration": 94,
    "start_time": "2022-12-15T10:12:41.206Z"
   },
   {
    "duration": 185,
    "start_time": "2022-12-15T10:13:22.454Z"
   },
   {
    "duration": 106,
    "start_time": "2022-12-15T10:13:37.471Z"
   },
   {
    "duration": 107,
    "start_time": "2022-12-15T10:13:50.271Z"
   },
   {
    "duration": 102,
    "start_time": "2022-12-15T10:14:08.434Z"
   },
   {
    "duration": 91,
    "start_time": "2022-12-15T10:18:22.678Z"
   },
   {
    "duration": 16287,
    "start_time": "2022-12-15T10:18:54.335Z"
   },
   {
    "duration": 502,
    "start_time": "2022-12-15T10:33:28.886Z"
   },
   {
    "duration": 947,
    "start_time": "2022-12-15T10:33:45.350Z"
   },
   {
    "duration": 19211,
    "start_time": "2022-12-15T10:39:19.328Z"
   },
   {
    "duration": 219,
    "start_time": "2022-12-15T10:43:54.358Z"
   },
   {
    "duration": 1968,
    "start_time": "2022-12-15T14:06:47.330Z"
   },
   {
    "duration": 76,
    "start_time": "2022-12-15T14:06:49.301Z"
   },
   {
    "duration": 11,
    "start_time": "2022-12-15T14:06:49.378Z"
   },
   {
    "duration": 17,
    "start_time": "2022-12-15T14:06:49.391Z"
   },
   {
    "duration": 7,
    "start_time": "2022-12-15T14:06:49.410Z"
   },
   {
    "duration": 14,
    "start_time": "2022-12-15T14:06:49.418Z"
   },
   {
    "duration": 11,
    "start_time": "2022-12-15T14:06:49.433Z"
   },
   {
    "duration": 45,
    "start_time": "2022-12-15T14:06:49.445Z"
   },
   {
    "duration": 17256,
    "start_time": "2022-12-15T14:06:49.492Z"
   },
   {
    "duration": 113,
    "start_time": "2022-12-15T14:07:06.751Z"
   },
   {
    "duration": 139,
    "start_time": "2022-12-15T14:07:06.866Z"
   },
   {
    "duration": 396,
    "start_time": "2022-12-15T14:07:07.007Z"
   },
   {
    "duration": 924,
    "start_time": "2022-12-15T14:07:07.405Z"
   },
   {
    "duration": 247,
    "start_time": "2022-12-15T14:07:08.331Z"
   },
   {
    "duration": 208,
    "start_time": "2022-12-15T14:07:08.580Z"
   },
   {
    "duration": 685,
    "start_time": "2022-12-19T11:52:45.281Z"
   }
  ],
  "kernelspec": {
   "display_name": "Python 3",
   "language": "python",
   "name": "python3"
  },
  "language_info": {
   "codemirror_mode": {
    "name": "ipython",
    "version": 3
   },
   "file_extension": ".py",
   "mimetype": "text/x-python",
   "name": "python",
   "nbconvert_exporter": "python",
   "pygments_lexer": "ipython3",
   "version": "3.8.8"
  },
  "toc": {
   "base_numbering": 1,
   "nav_menu": {},
   "number_sections": true,
   "sideBar": true,
   "skip_h1_title": true,
   "title_cell": "Table of Contents",
   "title_sidebar": "Contents",
   "toc_cell": false,
   "toc_position": {},
   "toc_section_display": true,
   "toc_window_display": false
  }
 },
 "nbformat": 4,
 "nbformat_minor": 2
}
