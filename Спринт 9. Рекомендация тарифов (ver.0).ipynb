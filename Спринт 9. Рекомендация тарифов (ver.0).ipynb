{
 "cells": [
  {
   "cell_type": "markdown",
   "metadata": {},
   "source": [
    "# Рекомендация тарифов"
   ]
  },
  {
   "cell_type": "markdown",
   "metadata": {},
   "source": [
    "В вашем распоряжении данные о поведении клиентов, которые уже перешли на эти тарифы (из проекта курса «Статистический анализ данных»). Нужно построить **модель** для задачи классификации, которая **выберет подходящий тариф**. Предобработка данных не понадобится — вы её уже сделали.\n",
    "\n",
    "Постройте модель с максимально большим значением **accuracy**. Чтобы сдать проект успешно, нужно довести долю правильных ответов по крайней мере до **0.75**. Проверьте *accuracy* на тестовой выборке самостоятельно."
   ]
  },
  {
   "cell_type": "markdown",
   "metadata": {},
   "source": [
    "**План работы:**\n",
    "1. [Чтение и знакомство с исходными данными.](#section_1)\n",
    "2. [Деление исходных данных на тренировочную и тестовую выборки.](#section_2)\n",
    "3. [Исследование модели](#section_3)\n",
    "4. [Проверка модели.](#section_4)\n",
    "5. [Оценка модели.](#section_5)"
   ]
  },
  {
   "cell_type": "markdown",
   "metadata": {},
   "source": [
    "<a id='section_1'></a>\n",
    "## 1. Откройть и изучить файл"
   ]
  },
  {
   "cell_type": "code",
   "execution_count": 1,
   "metadata": {},
   "outputs": [],
   "source": [
    "import pandas as pd\n",
    "from matplotlib import pyplot as plt\n",
    "\n",
    "from sklearn.dummy import DummyClassifier\n",
    "from sklearn.tree import DecisionTreeClassifier\n",
    "from sklearn.ensemble import RandomForestClassifier\n",
    "from sklearn.linear_model import LogisticRegression\n",
    "from sklearn.model_selection import train_test_split\n",
    "\n",
    "from sklearn.metrics import accuracy_score, plot_confusion_matrix"
   ]
  },
  {
   "cell_type": "code",
   "execution_count": 2,
   "metadata": {},
   "outputs": [
    {
     "data": {
      "text/html": [
       "<div>\n",
       "<style scoped>\n",
       "    .dataframe tbody tr th:only-of-type {\n",
       "        vertical-align: middle;\n",
       "    }\n",
       "\n",
       "    .dataframe tbody tr th {\n",
       "        vertical-align: top;\n",
       "    }\n",
       "\n",
       "    .dataframe thead th {\n",
       "        text-align: right;\n",
       "    }\n",
       "</style>\n",
       "<table border=\"1\" class=\"dataframe\">\n",
       "  <thead>\n",
       "    <tr style=\"text-align: right;\">\n",
       "      <th></th>\n",
       "      <th>calls</th>\n",
       "      <th>minutes</th>\n",
       "      <th>messages</th>\n",
       "      <th>mb_used</th>\n",
       "      <th>is_ultra</th>\n",
       "    </tr>\n",
       "  </thead>\n",
       "  <tbody>\n",
       "    <tr>\n",
       "      <th>0</th>\n",
       "      <td>40.0</td>\n",
       "      <td>311.90</td>\n",
       "      <td>83.0</td>\n",
       "      <td>19915.42</td>\n",
       "      <td>0</td>\n",
       "    </tr>\n",
       "    <tr>\n",
       "      <th>1</th>\n",
       "      <td>85.0</td>\n",
       "      <td>516.75</td>\n",
       "      <td>56.0</td>\n",
       "      <td>22696.96</td>\n",
       "      <td>0</td>\n",
       "    </tr>\n",
       "    <tr>\n",
       "      <th>2</th>\n",
       "      <td>77.0</td>\n",
       "      <td>467.66</td>\n",
       "      <td>86.0</td>\n",
       "      <td>21060.45</td>\n",
       "      <td>0</td>\n",
       "    </tr>\n",
       "    <tr>\n",
       "      <th>3</th>\n",
       "      <td>106.0</td>\n",
       "      <td>745.53</td>\n",
       "      <td>81.0</td>\n",
       "      <td>8437.39</td>\n",
       "      <td>1</td>\n",
       "    </tr>\n",
       "    <tr>\n",
       "      <th>4</th>\n",
       "      <td>66.0</td>\n",
       "      <td>418.74</td>\n",
       "      <td>1.0</td>\n",
       "      <td>14502.75</td>\n",
       "      <td>0</td>\n",
       "    </tr>\n",
       "  </tbody>\n",
       "</table>\n",
       "</div>"
      ],
      "text/plain": [
       "   calls  minutes  messages   mb_used  is_ultra\n",
       "0   40.0   311.90      83.0  19915.42         0\n",
       "1   85.0   516.75      56.0  22696.96         0\n",
       "2   77.0   467.66      86.0  21060.45         0\n",
       "3  106.0   745.53      81.0   8437.39         1\n",
       "4   66.0   418.74       1.0  14502.75         0"
      ]
     },
     "metadata": {},
     "output_type": "display_data"
    }
   ],
   "source": [
    "try:\n",
    "    try:\n",
    "        df = pd.read_csv('datasets/users_behavior.csv') #домашняя версия\n",
    "    except:\n",
    "        df = pd.read_csv('/datasets/users_behavior.csv') #сетевая версия\n",
    "    display(df.head())\n",
    "except:\n",
    "    print('Не удалось прочесть файл. Возможно, был указан не верный путь.')"
   ]
  },
  {
   "cell_type": "markdown",
   "metadata": {},
   "source": [
    "**Описание данных**:\n",
    "- `сalls` — количество звонков,\n",
    "- `minutes` — суммарная длительность звонков в минутах,\n",
    "- `messages` — количество sms-сообщений,\n",
    "- `mb_used` — израсходованный интернет-трафик в Мб,\n",
    "- `is_ultra` — каким тарифом пользовался в течение месяца («Ультра» — 1, «Смарт» — 0)."
   ]
  },
  {
   "cell_type": "code",
   "execution_count": 3,
   "metadata": {
    "scrolled": true
   },
   "outputs": [
    {
     "name": "stdout",
     "output_type": "stream",
     "text": [
      "<class 'pandas.core.frame.DataFrame'>\n",
      "RangeIndex: 3214 entries, 0 to 3213\n",
      "Data columns (total 5 columns):\n",
      " #   Column    Non-Null Count  Dtype  \n",
      "---  ------    --------------  -----  \n",
      " 0   calls     3214 non-null   float64\n",
      " 1   minutes   3214 non-null   float64\n",
      " 2   messages  3214 non-null   float64\n",
      " 3   mb_used   3214 non-null   float64\n",
      " 4   is_ultra  3214 non-null   int64  \n",
      "dtypes: float64(4), int64(1)\n",
      "memory usage: 125.7 KB\n"
     ]
    }
   ],
   "source": [
    "df.info()"
   ]
  },
  {
   "cell_type": "markdown",
   "metadata": {},
   "source": [
    "Замена **типов данных** на более подходящие: кол-во звонков и СМС может быть исключительно целым числом. Избавление от условных обозначений в пользу **фактических названий** тарифов."
   ]
  },
  {
   "cell_type": "code",
   "execution_count": 4,
   "metadata": {},
   "outputs": [
    {
     "data": {
      "text/html": [
       "<div>\n",
       "<style scoped>\n",
       "    .dataframe tbody tr th:only-of-type {\n",
       "        vertical-align: middle;\n",
       "    }\n",
       "\n",
       "    .dataframe tbody tr th {\n",
       "        vertical-align: top;\n",
       "    }\n",
       "\n",
       "    .dataframe thead th {\n",
       "        text-align: right;\n",
       "    }\n",
       "</style>\n",
       "<table border=\"1\" class=\"dataframe\">\n",
       "  <thead>\n",
       "    <tr style=\"text-align: right;\">\n",
       "      <th></th>\n",
       "      <th>calls</th>\n",
       "      <th>minutes</th>\n",
       "      <th>messages</th>\n",
       "      <th>mb_used</th>\n",
       "      <th>tariff</th>\n",
       "    </tr>\n",
       "  </thead>\n",
       "  <tbody>\n",
       "    <tr>\n",
       "      <th>0</th>\n",
       "      <td>40</td>\n",
       "      <td>311.90</td>\n",
       "      <td>83</td>\n",
       "      <td>19915.42</td>\n",
       "      <td>smart</td>\n",
       "    </tr>\n",
       "    <tr>\n",
       "      <th>1</th>\n",
       "      <td>85</td>\n",
       "      <td>516.75</td>\n",
       "      <td>56</td>\n",
       "      <td>22696.96</td>\n",
       "      <td>smart</td>\n",
       "    </tr>\n",
       "    <tr>\n",
       "      <th>2</th>\n",
       "      <td>77</td>\n",
       "      <td>467.66</td>\n",
       "      <td>86</td>\n",
       "      <td>21060.45</td>\n",
       "      <td>smart</td>\n",
       "    </tr>\n",
       "    <tr>\n",
       "      <th>3</th>\n",
       "      <td>106</td>\n",
       "      <td>745.53</td>\n",
       "      <td>81</td>\n",
       "      <td>8437.39</td>\n",
       "      <td>ultra</td>\n",
       "    </tr>\n",
       "    <tr>\n",
       "      <th>4</th>\n",
       "      <td>66</td>\n",
       "      <td>418.74</td>\n",
       "      <td>1</td>\n",
       "      <td>14502.75</td>\n",
       "      <td>smart</td>\n",
       "    </tr>\n",
       "  </tbody>\n",
       "</table>\n",
       "</div>"
      ],
      "text/plain": [
       "   calls  minutes  messages   mb_used tariff\n",
       "0     40   311.90        83  19915.42  smart\n",
       "1     85   516.75        56  22696.96  smart\n",
       "2     77   467.66        86  21060.45  smart\n",
       "3    106   745.53        81   8437.39  ultra\n",
       "4     66   418.74         1  14502.75  smart"
      ]
     },
     "execution_count": 4,
     "metadata": {},
     "output_type": "execute_result"
    }
   ],
   "source": [
    "for col in ['calls', 'messages']:\n",
    "    df[col] = df[col].astype('int')\n",
    "\n",
    "df['is_ultra'].where(df['is_ultra'] != 1, 'ultra', inplace=True)\n",
    "df['is_ultra'].where(df['is_ultra'] != 0, 'smart', inplace=True)\n",
    "df.rename(columns = {'is_ultra':'tariff'}, inplace=True)\n",
    "\n",
    "df.head()"
   ]
  },
  {
   "cell_type": "markdown",
   "metadata": {},
   "source": [
    "<a id='section_2'></a>\n",
    "## 2. Разбейте данные на выборки"
   ]
  },
  {
   "cell_type": "markdown",
   "metadata": {},
   "source": [
    "Разделите исходные данные на обучающую, валидационную и тестовую выборки."
   ]
  },
  {
   "cell_type": "code",
   "execution_count": 5,
   "metadata": {},
   "outputs": [],
   "source": [
    "features = df.drop('tariff', axis=1) # выделение признаков\n",
    "target = df['tariff']\n",
    "\n",
    "train_features, other_features, train_target, other_target = train_test_split(\n",
    "    features, target, test_size=0.40, random_state=1234) # выделение тренировочной выборки\n",
    "\n",
    "valid_features, test_features, valid_target, test_target = train_test_split(\n",
    "    other_features, other_target, test_size=0.5, random_state=1234) # выделение валидационной и тестовой выборок"
   ]
  },
  {
   "cell_type": "markdown",
   "metadata": {},
   "source": [
    "<a id='section_3'></a>\n",
    "## 3. Исследуйте модели"
   ]
  },
  {
   "cell_type": "markdown",
   "metadata": {},
   "source": [
    "Задача классификаци - варианты моделей классификации:\n",
    "- RandomForestClassifier (Слуйчайный лес)\n",
    "- LogisticRegression (Логистическая регрессия)\n",
    "- DecisionTreeClassifier (Дерево решений)\n",
    "\n",
    "Но я проверю все модели"
   ]
  },
  {
   "cell_type": "markdown",
   "metadata": {},
   "source": [
    "### 3.1. Случайный лес"
   ]
  },
  {
   "cell_type": "code",
   "execution_count": 6,
   "metadata": {},
   "outputs": [
    {
     "name": "stdout",
     "output_type": "stream",
     "text": [
      "Максимальная оценка модели: 0.8429237947122862, при кол-ве деревьев: 100, и их глубине: 10\n"
     ]
    },
    {
     "data": {
      "image/png": "[encoded data removed]",
      "text/plain": [
       "<Figure size 1080x504 with 1 Axes>"
      ]
     },
     "metadata": {
      "needs_background": "light"
     },
     "output_type": "display_data"
    }
   ],
   "source": [
    "best_est = 0\n",
    "best_depth = 0\n",
    "best_accuracy = 0\n",
    "list_est = []\n",
    "list_accurasy = []\n",
    "\n",
    "for est in range(10, 101, 10):\n",
    "    for depth in range(1, 13):\n",
    "        model = RandomForestClassifier(max_depth=depth, n_estimators=est, random_state=1234) # создание модели\n",
    "        model.fit(train_features, train_target)  # обучение модели\n",
    "        valid_prediction = model.predict(valid_features) # предсказание на валидационной выборке\n",
    "        valid_accuracy = accuracy_score(valid_target, valid_prediction) # оценка предсказаний\n",
    "        if valid_accuracy > best_accuracy:\n",
    "            best_accuracy = valid_accuracy #фиксация лучших результатов и гиперпараметров\n",
    "            best_depth = depth\n",
    "            best_est = est\n",
    "    list_est.append(est)\n",
    "    list_accurasy.append(best_accuracy)\n",
    "    #print(est, best_accuracy) # пошаговый вывод заменён на графическое отображение\n",
    "    \n",
    "print(f'Максимальная оценка модели: {best_accuracy}, при кол-ве деревьев: {est}, и их глубине: {best_depth}')\n",
    "\n",
    "accurasy_data = pd.DataFrame({'est': list_est, 'accuracy': list_accurasy})\n",
    "accurasy_data.plot(style='o-', x='est', y='accuracy', grid=True, legend=False, figsize=(15,7),\n",
    "         title='Зависимость качества модели от настройки гиперпараметра.',\n",
    "         xlabel='est - кол-во деревьев в \"Случайном лесу\"', ylabel='accuracy - доли верных предсказаний')\n",
    "plt.ylim(0.80, 0.85);\n",
    "plt.show()"
   ]
  },
  {
   "cell_type": "markdown",
   "metadata": {},
   "source": [
    "### 3.2. Логистическая регрессия"
   ]
  },
  {
   "cell_type": "code",
   "execution_count": 7,
   "metadata": {},
   "outputs": [
    {
     "name": "stdout",
     "output_type": "stream",
     "text": [
      "Максимальная оценка качества модели: 0.7589424572317263, при глубине решающего дерева: 100\n"
     ]
    }
   ],
   "source": [
    "best_iter = 0\n",
    "best_accuracy = 0\n",
    "for iteration in range(100, 1001, 100):\n",
    "    model = LogisticRegression(max_iter=iteration, solver='lbfgs', random_state=1234)\n",
    "    model.fit(train_features, train_target)\n",
    "    valid_prediction = model.predict(valid_features)\n",
    "    valid_accuracy = accuracy_score(valid_target, valid_prediction) # оценка предсказаний\n",
    "    if valid_accuracy > best_accuracy:\n",
    "        best_accuracy = valid_accuracy\n",
    "        best_iter = iteration\n",
    "\n",
    "print(f'Максимальная оценка качества модели: {best_accuracy}, при количестве итераций: {best_iter}')"
   ]
  },
  {
   "cell_type": "markdown",
   "metadata": {},
   "source": [
    "### 3.3. Решающее дерево"
   ]
  },
  {
   "cell_type": "code",
   "execution_count": 8,
   "metadata": {},
   "outputs": [
    {
     "name": "stdout",
     "output_type": "stream",
     "text": [
      "Максимальная оценка качества модели: 0.8320373250388803, при глубине решающего дерева: 7\n"
     ]
    }
   ],
   "source": [
    "best_depth = 0\n",
    "best_accuracy = 0\n",
    "for depth in range(1, 11):\n",
    "    model = DecisionTreeClassifier(max_depth=depth, random_state=1234)\n",
    "    model.fit(train_features, train_target)\n",
    "    valid_prediction = model.predict(valid_features)\n",
    "    valid_accuracy = accuracy_score(valid_target, valid_prediction)\n",
    "    if valid_accuracy > best_accuracy:\n",
    "        best_accuracy = valid_accuracy\n",
    "        best_depth = depth\n",
    "        best_model = model\n",
    "\n",
    "print(f'Максимальная оценка качества модели: {best_accuracy}, при глубине решающего дерева: {best_depth}')"
   ]
  },
  {
   "cell_type": "markdown",
   "metadata": {},
   "source": [
    "**Вывод:**\n",
    "- Наиболее точная модель **Случайный лес**: максимальная глубина: 10 разветвлений, достаточное кол-во деревьев: 60. Их численность можно увеличивать и дальше, но прирост оценки будет наблюдаться в 3ем знаке после запятой. Эту модель можно использовать, если нет требование в высокой скорости работы.\n",
    "- Если же такая необходимость есть, то можно использовать **Решающее дерево** (макс. длубина = 7). Незначительное отличие по качеству предсказаний, но ощутимая разница в быстродействии.\n",
    "- **Логистическая регрессия** - самыя низкокачественная в предсказания."
   ]
  },
  {
   "cell_type": "markdown",
   "metadata": {},
   "source": [
    "<a id='section_4'></a>\n",
    "## 4. Проверьте модель на тестовой выборке"
   ]
  },
  {
   "cell_type": "code",
   "execution_count": 12,
   "metadata": {},
   "outputs": [
    {
     "name": "stdout",
     "output_type": "stream",
     "text": [
      "Оценка качества на тестовых данных: 0.8118195956454122\n"
     ]
    },
    {
     "data": {
      "image/png": "[encoded data removed]",
      "text/plain": [
       "<Figure size 432x288 with 2 Axes>"
      ]
     },
     "metadata": {
      "needs_background": "light"
     },
     "output_type": "display_data"
    }
   ],
   "source": [
    "model = RandomForestClassifier(max_depth=10, n_estimators=60, random_state=1234)\n",
    "model.fit(train_features, train_target)\n",
    "test_prediction = model.predict(test_features) #предсказание на тестовой выборке\n",
    "\n",
    "test_accuracy = accuracy_score(test_target, test_prediction)  # Оценка качества на тестовой выборке\n",
    "\n",
    "plot_confusion_matrix(estimator=model, X=test_features, y_true=test_target, normalize='true', cmap='Blues')\n",
    "\n",
    "print('Оценка качества на тестовых данных:', test_accuracy)"
   ]
  },
  {
   "cell_type": "markdown",
   "metadata": {},
   "source": [
    "Доля верных предсказаний, не достаточно велика, чтобы возникла проблема _переобучения_, и в тоже время не достаточно низкая, чтобы вызвать подозрение в _недообучении_. Тариф `smart` модель предсказывает практически идеально, что нельзя сказать про `ultra`. Возможно это связано с разным количеством пользователей этих тарифов."
   ]
  },
  {
   "cell_type": "markdown",
   "metadata": {},
   "source": [
    "<a id='section_5'></a>\n",
    "## 5. Проверьте модели на адекватность (бонус)"
   ]
  },
  {
   "cell_type": "markdown",
   "metadata": {},
   "source": [
    "Для сравнение я использовал **Dummy**-модель, в качестве базовой модели. Доля верных ответов значительно ниже, что даёт модели **Случайного леса** право на существование. Но одной метрики недостаточно для оценки и я решил дополнить сравнение **матрицей запутанности** (надеюсь этой её правильное название). К сожалению, получился бред. Я ожидал распределние около 30/70. Столько же, сколько пользователей разных тарифов, но 1 и 0 явно не нормально. \n",
    "\n",
    "Проверил все переменные и аргументы у функция. Всё верно. Попробовал этот метод оценки с совершенно другим датасетов (другие данные, переменные, модели) -  результат аналогичный. В чём я мог ошибиться?\n",
    "\n",
    "P.S.: в мыслях был ещё вариант провести **исследовательский анализ данных**, но:\n",
    "- есть риск субъективно оценить результаты (тем более изначально зная предсказания модели) и \n",
    "- хотел избежать ручной работы (автоматизировать процесс), ведь работу модели лучше сравнивать с другой моделью, а не человеком, в данном случае."
   ]
  },
  {
   "cell_type": "code",
   "execution_count": 32,
   "metadata": {},
   "outputs": [
    {
     "name": "stdout",
     "output_type": "stream",
     "text": [
      "Оценка качества Dummy-модель на тестовых данных: 0.6982892690513219\n",
      "\n",
      "\n",
      "Процентное соотношение пользователей разных тарифов:\n"
     ]
    },
    {
     "data": {
      "text/html": [
       "<div>\n",
       "<style scoped>\n",
       "    .dataframe tbody tr th:only-of-type {\n",
       "        vertical-align: middle;\n",
       "    }\n",
       "\n",
       "    .dataframe tbody tr th {\n",
       "        vertical-align: top;\n",
       "    }\n",
       "\n",
       "    .dataframe thead th {\n",
       "        text-align: right;\n",
       "    }\n",
       "</style>\n",
       "<table border=\"1\" class=\"dataframe\">\n",
       "  <thead>\n",
       "    <tr style=\"text-align: right;\">\n",
       "      <th></th>\n",
       "      <th>tariff</th>\n",
       "    </tr>\n",
       "  </thead>\n",
       "  <tbody>\n",
       "    <tr>\n",
       "      <th>smart</th>\n",
       "      <td>0.698289</td>\n",
       "    </tr>\n",
       "    <tr>\n",
       "      <th>ultra</th>\n",
       "      <td>0.301711</td>\n",
       "    </tr>\n",
       "  </tbody>\n",
       "</table>\n",
       "</div>"
      ],
      "text/plain": [
       "         tariff\n",
       "smart  0.698289\n",
       "ultra  0.301711"
      ]
     },
     "metadata": {},
     "output_type": "display_data"
    },
    {
     "data": {
      "image/png": "[encoded data removed]",
      "text/plain": [
       "<Figure size 432x288 with 2 Axes>"
      ]
     },
     "metadata": {
      "needs_background": "light"
     },
     "output_type": "display_data"
    }
   ],
   "source": [
    "test_model = DummyClassifier() \n",
    "test_model.fit(train_features, train_target)\n",
    "\n",
    "dummy_pred = test_model.predict(test_features)\n",
    "print('Оценка качества Dummy-модель на тестовых данных:', accuracy_score(test_target, dummy_pred))\n",
    "print('\\n')\n",
    "print('Процентное соотношение пользователей разных тарифов:')\n",
    "display(test_target.value_counts(normalize=True).to_frame())\n",
    "\n",
    "plot_confusion_matrix(estimator=test_model, X=test_features, y_true=test_target, normalize='true', cmap='Blues');"
   ]
  },
  {
   "cell_type": "markdown",
   "metadata": {},
   "source": [
    "## Чек-лист готовности проекта"
   ]
  },
  {
   "cell_type": "markdown",
   "metadata": {},
   "source": [
    "Поставьте 'x' в выполненных пунктах. Далее нажмите Shift+Enter."
   ]
  },
  {
   "cell_type": "markdown",
   "metadata": {},
   "source": [
    "- [x] Jupyter Notebook открыт\n",
    "- [x] Весь код исполняется без ошибок\n",
    "- [x] Ячейки с кодом расположены в порядке исполнения\n",
    "- [x] Выполнено задание 1: данные загружены и изучены\n",
    "- [x] Выполнено задание 2: данные разбиты на три выборки\n",
    "- [x] Выполнено задание 3: проведено исследование моделей\n",
    "    - [x] Рассмотрено больше одной модели\n",
    "    - [x] Рассмотрено хотя бы 3 значения гипепараметров для какой-нибудь модели\n",
    "    - [x] Написаны выводы по результатам исследования\n",
    "- [x] Выполнено задание 4: Проведено тестирование\n",
    "- [x] Удалось достичь accuracy не меньше 0.75"
   ]
  },
  {
   "cell_type": "code",
   "execution_count": null,
   "metadata": {},
   "outputs": [],
   "source": []
  }
 ],
 "metadata": {
  "kernelspec": {
   "display_name": "Python 3",
   "language": "python",
   "name": "python3"
  },
  "language_info": {
   "codemirror_mode": {
    "name": "ipython",
    "version": 3
   },
   "file_extension": ".py",
   "mimetype": "text/x-python",
   "name": "python",
   "nbconvert_exporter": "python",
   "pygments_lexer": "ipython3",
   "version": "3.8.8"
  },
  "toc": {
   "base_numbering": 1,
   "nav_menu": {},
   "number_sections": true,
   "sideBar": true,
   "skip_h1_title": true,
   "title_cell": "Table of Contents",
   "title_sidebar": "Contents",
   "toc_cell": false,
   "toc_position": {},
   "toc_section_display": true,
   "toc_window_display": false
  }
 },
 "nbformat": 4,
 "nbformat_minor": 2
}
